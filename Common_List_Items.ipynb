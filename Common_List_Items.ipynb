{
 "cells": [
  {
   "cell_type": "code",
   "execution_count": 2,
   "id": "22bcb061",
   "metadata": {},
   "outputs": [],
   "source": [
    "import random"
   ]
  },
  {
   "cell_type": "code",
   "execution_count": 53,
   "id": "8f46bb42",
   "metadata": {},
   "outputs": [
    {
     "name": "stdout",
     "output_type": "stream",
     "text": [
      "Enter the length of list 1: 8\n",
      "Enter the length of list 2: 9\n",
      "[3, 28, 21, 27, 23, 4, 22, 30]\n",
      "[19, 14, 4, 16, 1, 22, 8, 7, 13]\n",
      "\n",
      "\n",
      "[4, 22]\n"
     ]
    }
   ],
   "source": [
    "randomlist1=[]\n",
    "randomlist2=[]\n",
    "n=1\n",
    "while n<=2:\n",
    "    a= int(input(\"Enter the length of list \"+ str(n)+ \": \"))\n",
    "    for i in range(0,a):\n",
    "        if n==1:\n",
    "            k=random.randint(1,30)\n",
    "            randomlist1.append(k)\n",
    "        if n==2:\n",
    "            k=random.randint(1,30)\n",
    "            randomlist2.append(k)\n",
    "        \n",
    "        \n",
    "    n=n+1\n",
    "print(randomlist1)\n",
    "print(randomlist2)\n",
    "count=0\n",
    "common_items=[]\n",
    "for k in range (0, len(randomlist1)):\n",
    "                for j in range(0,len(randomlist2)):\n",
    "                    if randomlist1[k]==randomlist2[j]:\n",
    "                        common_items.append(randomlist1[k])\n",
    "print(\"\\n\")\n",
    "                \n",
    "print(common_items)\n",
    "                "
   ]
  }
 ],
 "metadata": {
  "kernelspec": {
   "display_name": "Python 3",
   "language": "python",
   "name": "python3"
  },
  "language_info": {
   "codemirror_mode": {
    "name": "ipython",
    "version": 3
   },
   "file_extension": ".py",
   "mimetype": "text/x-python",
   "name": "python",
   "nbconvert_exporter": "python",
   "pygments_lexer": "ipython3",
   "version": "3.8.8"
  }
 },
 "nbformat": 4,
 "nbformat_minor": 5
}
